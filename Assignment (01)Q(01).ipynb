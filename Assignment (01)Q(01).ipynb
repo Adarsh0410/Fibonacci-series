{
 "cells": [
  {
   "cell_type": "markdown",
   "id": "8052e4aa",
   "metadata": {},
   "source": [
    "##  Q.1 Write a Python program to get the Fibonacci series between 0 to 50"
   ]
  },
  {
   "cell_type": "code",
   "execution_count": 3,
   "id": "b34aa0f2",
   "metadata": {},
   "outputs": [
    {
     "name": "stdout",
     "output_type": "stream",
     "text": [
      "1\n",
      "1\n",
      "2\n",
      "3\n",
      "5\n",
      "8\n",
      "13\n",
      "21\n",
      "34\n"
     ]
    }
   ],
   "source": [
    "x,y=0,1\n",
    "\n",
    "while y<50:\n",
    "    print(y)\n",
    "    x,y = y,x+y"
   ]
  },
  {
   "cell_type": "markdown",
   "id": "520ab77c",
   "metadata": {},
   "source": [
    "## Q.2 Write a Python program that accepts a word from the user and reverse it.\n",
    "\n"
   ]
  },
  {
   "cell_type": "code",
   "execution_count": 15,
   "id": "f0e4138c",
   "metadata": {},
   "outputs": [
    {
     "name": "stdout",
     "output_type": "stream",
     "text": [
      "adoydE"
     ]
    }
   ],
   "source": [
    "university = 'Edyoda'\n",
    "\n",
    "for ed in range(len(university) -1, -1, -1):\n",
    "    print(university[ed] , end = \"\")"
   ]
  },
  {
   "cell_type": "markdown",
   "id": "9b9b85d5",
   "metadata": {},
   "source": [
    "## Q.3 Write a Python program to count the number of even and odd numbers from a series of numbers."
   ]
  },
  {
   "cell_type": "code",
   "execution_count": 30,
   "id": "5dd9bca6",
   "metadata": {},
   "outputs": [
    {
     "name": "stdout",
     "output_type": "stream",
     "text": [
      "Number of even numbers: 5\n",
      "Number of odd numbers: 4\n"
     ]
    }
   ],
   "source": [
    "numbers = [1,2,3,4,5,6,7,8,9]\n",
    "\n",
    "even_no , odd_no = 0 , 0\n",
    "\n",
    "for i in numbers:\n",
    "    if i % 2 :\n",
    "        even_no += 1\n",
    "    else:\n",
    "        odd_no += 1\n",
    "print('Number of even numbers:', even_no)\n",
    "print('Number of odd numbers:', odd_no)"
   ]
  },
  {
   "cell_type": "code",
   "execution_count": null,
   "id": "9e2ed9aa",
   "metadata": {},
   "outputs": [],
   "source": []
  }
 ],
 "metadata": {
  "kernelspec": {
   "display_name": "Python 3 (ipykernel)",
   "language": "python",
   "name": "python3"
  },
  "language_info": {
   "codemirror_mode": {
    "name": "ipython",
    "version": 3
   },
   "file_extension": ".py",
   "mimetype": "text/x-python",
   "name": "python",
   "nbconvert_exporter": "python",
   "pygments_lexer": "ipython3",
   "version": "3.10.1"
  }
 },
 "nbformat": 4,
 "nbformat_minor": 5
}
